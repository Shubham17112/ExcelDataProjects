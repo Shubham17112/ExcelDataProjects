{
 "cells": [
  {
   "cell_type": "code",
   "execution_count": 1,
   "id": "5431c36e",
   "metadata": {},
   "outputs": [
    {
     "name": "stdout",
     "output_type": "stream",
     "text": [
      "2.2.3\n"
     ]
    }
   ],
   "source": [
    "import pandas as pd\n",
    "print(pd.__version__)"
   ]
  },
  {
   "cell_type": "code",
   "execution_count": null,
   "id": "70c273ec",
   "metadata": {},
   "outputs": [],
   "source": [
    "# to_datetime is a function from the  module\n",
    "\n",
    "# mean(), median(), mode() are methods of Series\n",
    "\n",
    "# fillna() is a method of both DataFrame and Series\n",
    "\n",
    "# DataFrame itself is a class from the pandas module\n"
   ]
  },
  {
   "cell_type": "code",
   "execution_count": null,
   "id": "ca6e287f",
   "metadata": {},
   "outputs": [
    {
     "name": "stdout",
     "output_type": "stream",
     "text": [
      "0    1\n",
      "1    2\n",
      "2    3\n",
      "3    4\n",
      "4    5\n",
      "dtype: int64\n"
     ]
    }
   ],
   "source": [
    "# One dimensinaol array\n",
    "# Series contain single column data\n",
    "arr = [1, 2, 3, 4, 5]\n",
    "col = pd.Series(arr)\n",
    "print(col)\n"
   ]
  },
  {
   "cell_type": "code",
   "execution_count": 10,
   "id": "0832e403",
   "metadata": {},
   "outputs": [
    {
     "name": "stdout",
     "output_type": "stream",
     "text": [
      "one      1\n",
      "two      2\n",
      "three    3\n",
      "four     4\n",
      "five     5\n",
      "dtype: int64\n",
      "1\n"
     ]
    }
   ],
   "source": [
    "# One dimensinaol array\n",
    "arr = [1, 2, 3, 4, 5]\n",
    "col = pd.Series(arr,index=['one','two','three','four','five'])\n",
    "print(col)\n",
    "print(col['one'])"
   ]
  },
  {
   "cell_type": "code",
   "execution_count": null,
   "id": "a25175e9",
   "metadata": {},
   "outputs": [
    {
     "name": "stdout",
     "output_type": "stream",
     "text": [
      "one      1\n",
      "two      2\n",
      "three    3\n",
      "four     4\n",
      "five     5\n",
      "dtype: int64\n",
      "1\n"
     ]
    }
   ],
   "source": [
    "# One dimensianl array\n",
    "dic = {\"one\":1,\"two\": 2,\"three\": 3, \"four\":4, \"five\":5}\n",
    "col = pd.Series(dic)\n",
    "print(col)\n",
    "print(col['one'])"
   ]
  },
  {
   "cell_type": "code",
   "execution_count": 3,
   "id": "5221461d",
   "metadata": {},
   "outputs": [
    {
     "name": "stdout",
     "output_type": "stream",
     "text": [
      "   furits   vehicals    places\n",
      "0   apple        car     Delhi\n",
      "1   banna  motercyle    Mumbai\n",
      "2  cherry        bus  Dehradun\n"
     ]
    }
   ],
   "source": [
    "#Two dimensianl array\n",
    "dic = {\"furits\":[\"apple\",\"banna\",\"cherry\"],\"vehicals\": [\"car\",\"motercyle\",\"bus\"],\"places\": [\"Delhi\",\"Mumbai\",\"Dehradun\"]}\n",
    "col = pd.DataFrame(dic)\n",
    "print(col)\n",
    "# https://youtu.be/AnPSaU6Zpjc?feature=shared&t=126\n",
    "\n"
   ]
  },
  {
   "cell_type": "code",
   "execution_count": 6,
   "id": "56f044a5",
   "metadata": {},
   "outputs": [
    {
     "data": {
      "text/plain": [
       "furits      apple\n",
       "vehicals      car\n",
       "places      Delhi\n",
       "Name: 0, dtype: object"
      ]
     },
     "execution_count": 6,
     "metadata": {},
     "output_type": "execute_result"
    }
   ],
   "source": [
    "# LOC : locate \n",
    "col.loc[0]"
   ]
  },
  {
   "cell_type": "code",
   "execution_count": 9,
   "id": "af709406",
   "metadata": {},
   "outputs": [
    {
     "data": {
      "text/html": [
       "<div>\n",
       "<style scoped>\n",
       "    .dataframe tbody tr th:only-of-type {\n",
       "        vertical-align: middle;\n",
       "    }\n",
       "\n",
       "    .dataframe tbody tr th {\n",
       "        vertical-align: top;\n",
       "    }\n",
       "\n",
       "    .dataframe thead th {\n",
       "        text-align: right;\n",
       "    }\n",
       "</style>\n",
       "<table border=\"1\" class=\"dataframe\">\n",
       "  <thead>\n",
       "    <tr style=\"text-align: right;\">\n",
       "      <th></th>\n",
       "      <th>furits</th>\n",
       "      <th>vehicals</th>\n",
       "      <th>places</th>\n",
       "    </tr>\n",
       "  </thead>\n",
       "  <tbody>\n",
       "    <tr>\n",
       "      <th>0</th>\n",
       "      <td>apple</td>\n",
       "      <td>car</td>\n",
       "      <td>Delhi</td>\n",
       "    </tr>\n",
       "    <tr>\n",
       "      <th>1</th>\n",
       "      <td>banna</td>\n",
       "      <td>motercyle</td>\n",
       "      <td>Mumbai</td>\n",
       "    </tr>\n",
       "  </tbody>\n",
       "</table>\n",
       "</div>"
      ],
      "text/plain": [
       "  furits   vehicals  places\n",
       "0  apple        car   Delhi\n",
       "1  banna  motercyle  Mumbai"
      ]
     },
     "execution_count": 9,
     "metadata": {},
     "output_type": "execute_result"
    }
   ],
   "source": [
    "# returning two rows\n",
    "# LOC : locate \n",
    "col.loc[[0,1]]"
   ]
  },
  {
   "cell_type": "code",
   "execution_count": 2,
   "id": "af21d3cc",
   "metadata": {},
   "outputs": [
    {
     "ename": "FileNotFoundError",
     "evalue": "[Errno 2] No such file or directory: 'data.csv'",
     "output_type": "error",
     "traceback": [
      "\u001b[1;31m---------------------------------------------------------------------------\u001b[0m",
      "\u001b[1;31mFileNotFoundError\u001b[0m                         Traceback (most recent call last)",
      "Cell \u001b[1;32mIn[2], line 3\u001b[0m\n\u001b[0;32m      1\u001b[0m \u001b[38;5;66;03m# Read CSV and JSON\u001b[39;00m\n\u001b[1;32m----> 3\u001b[0m df_csv \u001b[38;5;241m=\u001b[39m \u001b[43mpd\u001b[49m\u001b[38;5;241;43m.\u001b[39;49m\u001b[43mread_csv\u001b[49m\u001b[43m(\u001b[49m\u001b[38;5;124;43m'\u001b[39;49m\u001b[38;5;124;43mdata.csv\u001b[39;49m\u001b[38;5;124;43m'\u001b[39;49m\u001b[43m)\u001b[49m\n\u001b[0;32m      4\u001b[0m df_json \u001b[38;5;241m=\u001b[39m pd\u001b[38;5;241m.\u001b[39mread_json(\u001b[38;5;124m'\u001b[39m\u001b[38;5;124mdata.json\u001b[39m\u001b[38;5;124m'\u001b[39m)\n\u001b[0;32m      5\u001b[0m \u001b[38;5;28mprint\u001b[39m(df_csv\u001b[38;5;241m.\u001b[39mto_string())\n",
      "File \u001b[1;32m~\\AppData\\Roaming\\Python\\Python310\\site-packages\\pandas\\io\\parsers\\readers.py:1026\u001b[0m, in \u001b[0;36mread_csv\u001b[1;34m(filepath_or_buffer, sep, delimiter, header, names, index_col, usecols, dtype, engine, converters, true_values, false_values, skipinitialspace, skiprows, skipfooter, nrows, na_values, keep_default_na, na_filter, verbose, skip_blank_lines, parse_dates, infer_datetime_format, keep_date_col, date_parser, date_format, dayfirst, cache_dates, iterator, chunksize, compression, thousands, decimal, lineterminator, quotechar, quoting, doublequote, escapechar, comment, encoding, encoding_errors, dialect, on_bad_lines, delim_whitespace, low_memory, memory_map, float_precision, storage_options, dtype_backend)\u001b[0m\n\u001b[0;32m   1013\u001b[0m kwds_defaults \u001b[38;5;241m=\u001b[39m _refine_defaults_read(\n\u001b[0;32m   1014\u001b[0m     dialect,\n\u001b[0;32m   1015\u001b[0m     delimiter,\n\u001b[1;32m   (...)\u001b[0m\n\u001b[0;32m   1022\u001b[0m     dtype_backend\u001b[38;5;241m=\u001b[39mdtype_backend,\n\u001b[0;32m   1023\u001b[0m )\n\u001b[0;32m   1024\u001b[0m kwds\u001b[38;5;241m.\u001b[39mupdate(kwds_defaults)\n\u001b[1;32m-> 1026\u001b[0m \u001b[38;5;28;01mreturn\u001b[39;00m \u001b[43m_read\u001b[49m\u001b[43m(\u001b[49m\u001b[43mfilepath_or_buffer\u001b[49m\u001b[43m,\u001b[49m\u001b[43m \u001b[49m\u001b[43mkwds\u001b[49m\u001b[43m)\u001b[49m\n",
      "File \u001b[1;32m~\\AppData\\Roaming\\Python\\Python310\\site-packages\\pandas\\io\\parsers\\readers.py:620\u001b[0m, in \u001b[0;36m_read\u001b[1;34m(filepath_or_buffer, kwds)\u001b[0m\n\u001b[0;32m    617\u001b[0m _validate_names(kwds\u001b[38;5;241m.\u001b[39mget(\u001b[38;5;124m\"\u001b[39m\u001b[38;5;124mnames\u001b[39m\u001b[38;5;124m\"\u001b[39m, \u001b[38;5;28;01mNone\u001b[39;00m))\n\u001b[0;32m    619\u001b[0m \u001b[38;5;66;03m# Create the parser.\u001b[39;00m\n\u001b[1;32m--> 620\u001b[0m parser \u001b[38;5;241m=\u001b[39m TextFileReader(filepath_or_buffer, \u001b[38;5;241m*\u001b[39m\u001b[38;5;241m*\u001b[39mkwds)\n\u001b[0;32m    622\u001b[0m \u001b[38;5;28;01mif\u001b[39;00m chunksize \u001b[38;5;129;01mor\u001b[39;00m iterator:\n\u001b[0;32m    623\u001b[0m     \u001b[38;5;28;01mreturn\u001b[39;00m parser\n",
      "File \u001b[1;32m~\\AppData\\Roaming\\Python\\Python310\\site-packages\\pandas\\io\\parsers\\readers.py:1620\u001b[0m, in \u001b[0;36mTextFileReader.__init__\u001b[1;34m(self, f, engine, **kwds)\u001b[0m\n\u001b[0;32m   1617\u001b[0m     \u001b[38;5;28mself\u001b[39m\u001b[38;5;241m.\u001b[39moptions[\u001b[38;5;124m\"\u001b[39m\u001b[38;5;124mhas_index_names\u001b[39m\u001b[38;5;124m\"\u001b[39m] \u001b[38;5;241m=\u001b[39m kwds[\u001b[38;5;124m\"\u001b[39m\u001b[38;5;124mhas_index_names\u001b[39m\u001b[38;5;124m\"\u001b[39m]\n\u001b[0;32m   1619\u001b[0m \u001b[38;5;28mself\u001b[39m\u001b[38;5;241m.\u001b[39mhandles: IOHandles \u001b[38;5;241m|\u001b[39m \u001b[38;5;28;01mNone\u001b[39;00m \u001b[38;5;241m=\u001b[39m \u001b[38;5;28;01mNone\u001b[39;00m\n\u001b[1;32m-> 1620\u001b[0m \u001b[38;5;28mself\u001b[39m\u001b[38;5;241m.\u001b[39m_engine \u001b[38;5;241m=\u001b[39m \u001b[38;5;28;43mself\u001b[39;49m\u001b[38;5;241;43m.\u001b[39;49m\u001b[43m_make_engine\u001b[49m\u001b[43m(\u001b[49m\u001b[43mf\u001b[49m\u001b[43m,\u001b[49m\u001b[43m \u001b[49m\u001b[38;5;28;43mself\u001b[39;49m\u001b[38;5;241;43m.\u001b[39;49m\u001b[43mengine\u001b[49m\u001b[43m)\u001b[49m\n",
      "File \u001b[1;32m~\\AppData\\Roaming\\Python\\Python310\\site-packages\\pandas\\io\\parsers\\readers.py:1880\u001b[0m, in \u001b[0;36mTextFileReader._make_engine\u001b[1;34m(self, f, engine)\u001b[0m\n\u001b[0;32m   1878\u001b[0m     \u001b[38;5;28;01mif\u001b[39;00m \u001b[38;5;124m\"\u001b[39m\u001b[38;5;124mb\u001b[39m\u001b[38;5;124m\"\u001b[39m \u001b[38;5;129;01mnot\u001b[39;00m \u001b[38;5;129;01min\u001b[39;00m mode:\n\u001b[0;32m   1879\u001b[0m         mode \u001b[38;5;241m+\u001b[39m\u001b[38;5;241m=\u001b[39m \u001b[38;5;124m\"\u001b[39m\u001b[38;5;124mb\u001b[39m\u001b[38;5;124m\"\u001b[39m\n\u001b[1;32m-> 1880\u001b[0m \u001b[38;5;28mself\u001b[39m\u001b[38;5;241m.\u001b[39mhandles \u001b[38;5;241m=\u001b[39m \u001b[43mget_handle\u001b[49m\u001b[43m(\u001b[49m\n\u001b[0;32m   1881\u001b[0m \u001b[43m    \u001b[49m\u001b[43mf\u001b[49m\u001b[43m,\u001b[49m\n\u001b[0;32m   1882\u001b[0m \u001b[43m    \u001b[49m\u001b[43mmode\u001b[49m\u001b[43m,\u001b[49m\n\u001b[0;32m   1883\u001b[0m \u001b[43m    \u001b[49m\u001b[43mencoding\u001b[49m\u001b[38;5;241;43m=\u001b[39;49m\u001b[38;5;28;43mself\u001b[39;49m\u001b[38;5;241;43m.\u001b[39;49m\u001b[43moptions\u001b[49m\u001b[38;5;241;43m.\u001b[39;49m\u001b[43mget\u001b[49m\u001b[43m(\u001b[49m\u001b[38;5;124;43m\"\u001b[39;49m\u001b[38;5;124;43mencoding\u001b[39;49m\u001b[38;5;124;43m\"\u001b[39;49m\u001b[43m,\u001b[49m\u001b[43m \u001b[49m\u001b[38;5;28;43;01mNone\u001b[39;49;00m\u001b[43m)\u001b[49m\u001b[43m,\u001b[49m\n\u001b[0;32m   1884\u001b[0m \u001b[43m    \u001b[49m\u001b[43mcompression\u001b[49m\u001b[38;5;241;43m=\u001b[39;49m\u001b[38;5;28;43mself\u001b[39;49m\u001b[38;5;241;43m.\u001b[39;49m\u001b[43moptions\u001b[49m\u001b[38;5;241;43m.\u001b[39;49m\u001b[43mget\u001b[49m\u001b[43m(\u001b[49m\u001b[38;5;124;43m\"\u001b[39;49m\u001b[38;5;124;43mcompression\u001b[39;49m\u001b[38;5;124;43m\"\u001b[39;49m\u001b[43m,\u001b[49m\u001b[43m \u001b[49m\u001b[38;5;28;43;01mNone\u001b[39;49;00m\u001b[43m)\u001b[49m\u001b[43m,\u001b[49m\n\u001b[0;32m   1885\u001b[0m \u001b[43m    \u001b[49m\u001b[43mmemory_map\u001b[49m\u001b[38;5;241;43m=\u001b[39;49m\u001b[38;5;28;43mself\u001b[39;49m\u001b[38;5;241;43m.\u001b[39;49m\u001b[43moptions\u001b[49m\u001b[38;5;241;43m.\u001b[39;49m\u001b[43mget\u001b[49m\u001b[43m(\u001b[49m\u001b[38;5;124;43m\"\u001b[39;49m\u001b[38;5;124;43mmemory_map\u001b[39;49m\u001b[38;5;124;43m\"\u001b[39;49m\u001b[43m,\u001b[49m\u001b[43m \u001b[49m\u001b[38;5;28;43;01mFalse\u001b[39;49;00m\u001b[43m)\u001b[49m\u001b[43m,\u001b[49m\n\u001b[0;32m   1886\u001b[0m \u001b[43m    \u001b[49m\u001b[43mis_text\u001b[49m\u001b[38;5;241;43m=\u001b[39;49m\u001b[43mis_text\u001b[49m\u001b[43m,\u001b[49m\n\u001b[0;32m   1887\u001b[0m \u001b[43m    \u001b[49m\u001b[43merrors\u001b[49m\u001b[38;5;241;43m=\u001b[39;49m\u001b[38;5;28;43mself\u001b[39;49m\u001b[38;5;241;43m.\u001b[39;49m\u001b[43moptions\u001b[49m\u001b[38;5;241;43m.\u001b[39;49m\u001b[43mget\u001b[49m\u001b[43m(\u001b[49m\u001b[38;5;124;43m\"\u001b[39;49m\u001b[38;5;124;43mencoding_errors\u001b[39;49m\u001b[38;5;124;43m\"\u001b[39;49m\u001b[43m,\u001b[49m\u001b[43m \u001b[49m\u001b[38;5;124;43m\"\u001b[39;49m\u001b[38;5;124;43mstrict\u001b[39;49m\u001b[38;5;124;43m\"\u001b[39;49m\u001b[43m)\u001b[49m\u001b[43m,\u001b[49m\n\u001b[0;32m   1888\u001b[0m \u001b[43m    \u001b[49m\u001b[43mstorage_options\u001b[49m\u001b[38;5;241;43m=\u001b[39;49m\u001b[38;5;28;43mself\u001b[39;49m\u001b[38;5;241;43m.\u001b[39;49m\u001b[43moptions\u001b[49m\u001b[38;5;241;43m.\u001b[39;49m\u001b[43mget\u001b[49m\u001b[43m(\u001b[49m\u001b[38;5;124;43m\"\u001b[39;49m\u001b[38;5;124;43mstorage_options\u001b[39;49m\u001b[38;5;124;43m\"\u001b[39;49m\u001b[43m,\u001b[49m\u001b[43m \u001b[49m\u001b[38;5;28;43;01mNone\u001b[39;49;00m\u001b[43m)\u001b[49m\u001b[43m,\u001b[49m\n\u001b[0;32m   1889\u001b[0m \u001b[43m\u001b[49m\u001b[43m)\u001b[49m\n\u001b[0;32m   1890\u001b[0m \u001b[38;5;28;01massert\u001b[39;00m \u001b[38;5;28mself\u001b[39m\u001b[38;5;241m.\u001b[39mhandles \u001b[38;5;129;01mis\u001b[39;00m \u001b[38;5;129;01mnot\u001b[39;00m \u001b[38;5;28;01mNone\u001b[39;00m\n\u001b[0;32m   1891\u001b[0m f \u001b[38;5;241m=\u001b[39m \u001b[38;5;28mself\u001b[39m\u001b[38;5;241m.\u001b[39mhandles\u001b[38;5;241m.\u001b[39mhandle\n",
      "File \u001b[1;32m~\\AppData\\Roaming\\Python\\Python310\\site-packages\\pandas\\io\\common.py:873\u001b[0m, in \u001b[0;36mget_handle\u001b[1;34m(path_or_buf, mode, encoding, compression, memory_map, is_text, errors, storage_options)\u001b[0m\n\u001b[0;32m    868\u001b[0m \u001b[38;5;28;01melif\u001b[39;00m \u001b[38;5;28misinstance\u001b[39m(handle, \u001b[38;5;28mstr\u001b[39m):\n\u001b[0;32m    869\u001b[0m     \u001b[38;5;66;03m# Check whether the filename is to be opened in binary mode.\u001b[39;00m\n\u001b[0;32m    870\u001b[0m     \u001b[38;5;66;03m# Binary mode does not support 'encoding' and 'newline'.\u001b[39;00m\n\u001b[0;32m    871\u001b[0m     \u001b[38;5;28;01mif\u001b[39;00m ioargs\u001b[38;5;241m.\u001b[39mencoding \u001b[38;5;129;01mand\u001b[39;00m \u001b[38;5;124m\"\u001b[39m\u001b[38;5;124mb\u001b[39m\u001b[38;5;124m\"\u001b[39m \u001b[38;5;129;01mnot\u001b[39;00m \u001b[38;5;129;01min\u001b[39;00m ioargs\u001b[38;5;241m.\u001b[39mmode:\n\u001b[0;32m    872\u001b[0m         \u001b[38;5;66;03m# Encoding\u001b[39;00m\n\u001b[1;32m--> 873\u001b[0m         handle \u001b[38;5;241m=\u001b[39m \u001b[38;5;28;43mopen\u001b[39;49m\u001b[43m(\u001b[49m\n\u001b[0;32m    874\u001b[0m \u001b[43m            \u001b[49m\u001b[43mhandle\u001b[49m\u001b[43m,\u001b[49m\n\u001b[0;32m    875\u001b[0m \u001b[43m            \u001b[49m\u001b[43mioargs\u001b[49m\u001b[38;5;241;43m.\u001b[39;49m\u001b[43mmode\u001b[49m\u001b[43m,\u001b[49m\n\u001b[0;32m    876\u001b[0m \u001b[43m            \u001b[49m\u001b[43mencoding\u001b[49m\u001b[38;5;241;43m=\u001b[39;49m\u001b[43mioargs\u001b[49m\u001b[38;5;241;43m.\u001b[39;49m\u001b[43mencoding\u001b[49m\u001b[43m,\u001b[49m\n\u001b[0;32m    877\u001b[0m \u001b[43m            \u001b[49m\u001b[43merrors\u001b[49m\u001b[38;5;241;43m=\u001b[39;49m\u001b[43merrors\u001b[49m\u001b[43m,\u001b[49m\n\u001b[0;32m    878\u001b[0m \u001b[43m            \u001b[49m\u001b[43mnewline\u001b[49m\u001b[38;5;241;43m=\u001b[39;49m\u001b[38;5;124;43m\"\u001b[39;49m\u001b[38;5;124;43m\"\u001b[39;49m\u001b[43m,\u001b[49m\n\u001b[0;32m    879\u001b[0m \u001b[43m        \u001b[49m\u001b[43m)\u001b[49m\n\u001b[0;32m    880\u001b[0m     \u001b[38;5;28;01melse\u001b[39;00m:\n\u001b[0;32m    881\u001b[0m         \u001b[38;5;66;03m# Binary mode\u001b[39;00m\n\u001b[0;32m    882\u001b[0m         handle \u001b[38;5;241m=\u001b[39m \u001b[38;5;28mopen\u001b[39m(handle, ioargs\u001b[38;5;241m.\u001b[39mmode)\n",
      "\u001b[1;31mFileNotFoundError\u001b[0m: [Errno 2] No such file or directory: 'data.csv'"
     ]
    }
   ],
   "source": [
    "# Read CSV and JSON\n",
    "\n",
    "df_csv = pd.read_csv('data.csv')\n",
    "df_json = pd.read_json('data.json')\n",
    "print(df_csv.to_string())"
   ]
  },
  {
   "cell_type": "code",
   "execution_count": null,
   "id": "b6a0cab9",
   "metadata": {},
   "outputs": [
    {
     "name": "stdout",
     "output_type": "stream",
     "text": [
      "   Duration  Pulse  Maxpulse  Calories\n",
      "0        60    110       130       409\n",
      "1        60    117       145       479\n",
      "2        60    103       135       340\n",
      "3        45    109       175       282\n",
      "4        45    117       148       406\n",
      "5        60    102       127       300\n"
     ]
    }
   ],
   "source": [
    "# how to load python dic into dataframe\n",
    "# here dat is nested dictionary\n",
    "data = {\n",
    "  \"Duration\":{\n",
    "    \"0\":60,\n",
    "    \"1\":60,\n",
    "    \"2\":60,\n",
    "    \"3\":45,\n",
    "    \"4\":45,\n",
    "    \"5\":60\n",
    "  },\n",
    "  \"Pulse\":{\n",
    "    \"0\":110,\n",
    "    \"1\":117,\n",
    "    \"2\":103,\n",
    "    \"3\":109,\n",
    "    \"4\":117,\n",
    "    \"5\":102\n",
    "  },\n",
    "  \"Maxpulse\":{\n",
    "    \"0\":130,\n",
    "    \"1\":145,\n",
    "    \"2\":135,\n",
    "    \"3\":175,\n",
    "    \"4\":148,\n",
    "    \"5\":127\n",
    "  },\n",
    "  \"Calories\":{\n",
    "    \"0\":409,\n",
    "    \"1\":479,\n",
    "    \"2\":340,\n",
    "    \"3\":282,\n",
    "    \"4\":406,\n",
    "    \"5\":300\n",
    "  }\n",
    "}\n",
    "\n",
    "pd_json_read = pd.DataFrame(data)\n",
    "print(pd_json_read.to_string())\n"
   ]
  },
  {
   "cell_type": "code",
   "execution_count": 5,
   "id": "df90d278",
   "metadata": {},
   "outputs": [
    {
     "name": "stdout",
     "output_type": "stream",
     "text": [
      "   Duration  Pulse\n",
      "0        60    110\n",
      "1        60    117\n",
      "2        60    103\n"
     ]
    }
   ],
   "source": [
    "#here data is in the form of a list of dic\n",
    "\n",
    "data = [\n",
    "  {\"Duration\": 60, \"Pulse\": 110},\n",
    "  {\"Duration\": 60, \"Pulse\": 117},\n",
    "  {\"Duration\": 60, \"Pulse\": 103}\n",
    "]\n",
    "\n",
    "pd_json_read = pd.DataFrame(data)\n",
    "print(pd_json_read.to_string())\n"
   ]
  },
  {
   "cell_type": "code",
   "execution_count": 7,
   "id": "8f906b5c",
   "metadata": {},
   "outputs": [
    {
     "name": "stdout",
     "output_type": "stream",
     "text": [
      "   Duration  Pulse  Maxpulse  Calories\n",
      "0        60    110       130       409\n",
      "1        60    117       145       479\n"
     ]
    }
   ],
   "source": [
    "# Viewing Data  ( head method )\n",
    "df_view_json = pd.read_json('data.json')\n",
    "df_view_json_Head = df_view_json.head(2)\n",
    "print(df_view_json_Head.to_string())\n"
   ]
  },
  {
   "cell_type": "markdown",
   "id": "d5f05808",
   "metadata": {},
   "source": [
    "Data Cleaning "
   ]
  },
  {
   "cell_type": "code",
   "execution_count": 10,
   "id": "82c37144",
   "metadata": {},
   "outputs": [],
   "source": [
    "# Pandas - Cleaning Empty Cells\n",
    "# Viewing Data  ( head method )\n",
    "\n",
    "'''\n",
    "BAD data contains:\n",
    "-> empty cells \n",
    "- > Data in wrong format\n",
    "- > Wrong data\n",
    "->Duplicates\n",
    "'''\n",
    "bad_data_csv = pd.read_csv('badData.csv')\n"
   ]
  },
  {
   "cell_type": "code",
   "execution_count": null,
   "id": "46f540aa",
   "metadata": {},
   "outputs": [
    {
     "name": "stdout",
     "output_type": "stream",
     "text": [
      "    Duration        Date  Pulse  Maxpulse  Calories\n",
      "0         60  2020/12/01    110       130     409.1\n",
      "1         60  2020/12/02    117       145     479.0\n",
      "2         60  2020/12/03    103       135     340.0\n",
      "3         45  2020/12/04    109       175     282.4\n",
      "4         45  2020/12/05    117       148     406.0\n",
      "5         60  2020/12/06    102       127     300.0\n",
      "6         60  2020/12/07    110       136     374.0\n",
      "7        450  2020/12/08    104       134     253.3\n",
      "8         30  2020/12/09    109       133     195.1\n",
      "9         60  2020/12/10     98       124     269.0\n",
      "10        60  2020/12/11    103       147     329.3\n",
      "11        60  2020/12/12    100       120     250.7\n",
      "12        60  2020/12/12    100       120     250.7\n",
      "13        60  2020/12/13    106       128     345.3\n",
      "14        60  2020/12/14    104       132     379.3\n",
      "15        60  2020/12/15     98       123     275.0\n",
      "16        60  2020/12/16     98       120     215.2\n",
      "17        60  2020/12/17    100       120     300.0\n",
      "19        60  2020/12/19    103       123     323.0\n",
      "20        45  2020/12/20     97       125     243.0\n",
      "21        60  2020/12/21    108       131     364.2\n",
      "23        60  2020/12/23    130       101     300.0\n",
      "24        45  2020/12/24    105       132     246.0\n",
      "25        60  2020/12/25    102       126     334.5\n",
      "26        60  2020/12/26    100       120     250.0\n",
      "27        60  2020/12/27     92       118     241.0\n",
      "29        60  2020/12/29    100       132     280.0\n",
      "30        60  2020/12/30    102       129     380.3\n",
      "31        60  2020/12/31     92       115     243.0\n"
     ]
    }
   ],
   "source": [
    "#Pandas - Cleaning Empty Cells\n",
    "\n",
    "# always make a copy of the data for opeations \n",
    "import pandas as pd\n",
    "bad_data_csv = pd.read_csv('badData.csv')\n",
    "# Create a copy of the data\n",
    "bad_data_new_csv = bad_data_csv.dropna()\n",
    "\n",
    "print(bad_data_new_csv.to_string())\n"
   ]
  },
  {
   "cell_type": "code",
   "execution_count": null,
   "id": "16c3d2a3",
   "metadata": {},
   "outputs": [
    {
     "name": "stdout",
     "output_type": "stream",
     "text": [
      "    Duration        Date  Pulse  Maxpulse  Calories\n",
      "0         60  2020/12/01    110       130    409.10\n",
      "1         60  2020/12/02    117       145    479.00\n",
      "2         60  2020/12/03    103       135    340.00\n",
      "3         45  2020/12/04    109       175    282.40\n",
      "4         45  2020/12/05    117       148    406.00\n",
      "5         60  2020/12/06    102       127    300.00\n",
      "6         60  2020/12/07    110       136    374.00\n",
      "7        450  2020/12/08    104       134    253.30\n",
      "8         30  2020/12/09    109       133    195.10\n",
      "9         60  2020/12/10     98       124    269.00\n",
      "10        60  2020/12/11    103       147    329.30\n",
      "11        60  2020/12/12    100       120    250.70\n",
      "12        60  2020/12/12    100       120    250.70\n",
      "13        60  2020/12/13    106       128    345.30\n",
      "14        60  2020/12/14    104       132    379.30\n",
      "15        60  2020/12/15     98       123    275.00\n",
      "16        60  2020/12/16     98       120    215.20\n",
      "17        60  2020/12/17    100       120    300.00\n",
      "18        45  2020/12/18     90       112    304.68\n",
      "19        60  2020/12/19    103       123    323.00\n",
      "20        45  2020/12/20     97       125    243.00\n",
      "21        60  2020/12/21    108       131    364.20\n",
      "22        45         NaN    100       119    282.00\n",
      "23        60  2020/12/23    130       101    300.00\n",
      "24        45    20201226    105       132    246.00\n",
      "25        60  2020/12/25    102       126    334.50\n",
      "26        60  2020/12/26    100       120    250.00\n",
      "27        60  2020/12/27     92       118    241.00\n",
      "28        60  2020/12/28    103       132    304.68\n",
      "29        60  2020/12/29    100       132    280.00\n",
      "30        60  2020/12/30    102       129    380.30\n",
      "31        60  2020/12/31     92       115    243.00\n"
     ]
    }
   ],
   "source": [
    "# Replace Empty Values\n",
    "\n",
    "# instead of deleting entire row , we can replace empty values with a specific value \n",
    "\n",
    "import pandas as pd\n",
    "bad_data_csv = pd.read_csv('badData.csv')\n",
    "x = bad_data_csv['Calories'].mean()\n",
    "bad_data_new_csv = bad_data_csv.fillna({'Calories':x})\n",
    "print(bad_data_new_csv.to_string())"
   ]
  },
  {
   "cell_type": "code",
   "execution_count": null,
   "id": "a69c5e8b",
   "metadata": {},
   "outputs": [
    {
     "name": "stdout",
     "output_type": "stream",
     "text": [
      "    Duration       Date  Pulse  Maxpulse  Calories\n",
      "0         60 2020-12-01    110       130     409.1\n",
      "1         60 2020-12-02    117       145     479.0\n",
      "2         60 2020-12-03    103       135     340.0\n",
      "3         45 2020-12-04    109       175     282.4\n",
      "4         45 2020-12-05    117       148     406.0\n",
      "5         60 2020-12-06    102       127     300.0\n",
      "6         60 2020-12-07    110       136     374.0\n",
      "7        450 2020-12-08    104       134     253.3\n",
      "8         30 2020-12-09    109       133     195.1\n",
      "9         60 2020-12-10     98       124     269.0\n",
      "10        60 2020-12-11    103       147     329.3\n",
      "11        60 2020-12-12    100       120     250.7\n",
      "12        60 2020-12-12    100       120     250.7\n",
      "13        60 2020-12-13    106       128     345.3\n",
      "14        60 2020-12-14    104       132     379.3\n",
      "15        60 2020-12-15     98       123     275.0\n",
      "16        60 2020-12-16     98       120     215.2\n",
      "17        60 2020-12-17    100       120     300.0\n",
      "18        45 2020-12-18     90       112       NaN\n",
      "19        60 2020-12-19    103       123     323.0\n",
      "20        45 2020-12-20     97       125     243.0\n",
      "21        60 2020-12-21    108       131     364.2\n",
      "23        60 2020-12-23    130       101     300.0\n",
      "24        45 2020-12-26    105       132     246.0\n",
      "25        60 2020-12-25    102       126     334.5\n",
      "26        60 2020-12-26    100       120     250.0\n",
      "27        60 2020-12-27     92       118     241.0\n",
      "28        60 2020-12-28    103       132       NaN\n",
      "29        60 2020-12-29    100       132     280.0\n",
      "30        60 2020-12-30    102       129     380.3\n",
      "31        60 2020-12-31     92       115     243.0\n"
     ]
    }
   ],
   "source": [
    "# Pandas - Cleaning Data of Wrong Format\n",
    "import pandas as pd\n",
    "from pandas import to_datetime\n",
    "bad_data_csv = pd.read_csv('badData.csv')\n",
    "# as u can see row 26 has wrong format data and time \n",
    "# bad_data_fixed_dataTime_csv = bad_data_csv['Date'].to_datetime()  # bad_data_csv['Date'] => this is series \n",
    "\n",
    "bad_data_csv['Date'] = to_datetime(bad_data_csv['Date'],format='mixed')  # bad_data_csv['Date'] => this is series \n",
    "bad_data_csv.dropna(subset=['Date'], inplace=True)  # drop rows with missing values\n",
    "print(bad_data_csv)\n"
   ]
  },
  {
   "cell_type": "code",
   "execution_count": 18,
   "id": "f6f18f7f",
   "metadata": {},
   "outputs": [
    {
     "name": "stdout",
     "output_type": "stream",
     "text": [
      "    Duration        Date  Pulse  Maxpulse  Calories\n",
      "0         60  2020/12/01    110       130     409.1\n",
      "1         60  2020/12/02    117       145     479.0\n",
      "2         60  2020/12/03    103       135     340.0\n",
      "3         45  2020/12/04    109       175     282.4\n",
      "4         45  2020/12/05    117       148     406.0\n",
      "5         60  2020/12/06    102       127     300.0\n",
      "6         60  2020/12/07    110       136     374.0\n",
      "7      16660  2020/12/08    104       134     253.3\n",
      "8      16660  2020/12/09    109       133     195.1\n",
      "9         60  2020/12/10     98       124     269.0\n",
      "10        60  2020/12/11    103       147     329.3\n",
      "11        60  2020/12/12    100       120     250.7\n",
      "12        60  2020/12/12    100       120     250.7\n",
      "13        60  2020/12/13    106       128     345.3\n",
      "14        60  2020/12/14    104       132     379.3\n",
      "15        60  2020/12/15     98       123     275.0\n",
      "16        60  2020/12/16     98       120     215.2\n",
      "17        60  2020/12/17    100       120     300.0\n",
      "18        45  2020/12/18     90       112       NaN\n",
      "19        60  2020/12/19    103       123     323.0\n",
      "20        45  2020/12/20     97       125     243.0\n",
      "21        60  2020/12/21    108       131     364.2\n",
      "22        45         NaN    100       119     282.0\n",
      "23        60  2020/12/23    130       101     300.0\n",
      "24        45    20201226    105       132     246.0\n",
      "25        60  2020/12/25    102       126     334.5\n",
      "26        60  2020/12/26    100       120     250.0\n",
      "27        60  2020/12/27     92       118     241.0\n",
      "28        60  2020/12/28    103       132       NaN\n",
      "29        60  2020/12/29    100       132     280.0\n",
      "30        60  2020/12/30    102       129     380.3\n",
      "31        60  2020/12/31     92       115     243.0\n"
     ]
    }
   ],
   "source": [
    "# Pandas - Fixing Wrong Data\n",
    "# 7        450 2020-12-08    104       134     253.3\n",
    "# row 7 contain an outlier \n",
    "import pandas as pd\n",
    "\n",
    "bad_data_csv = pd.read_csv('badData.csv')\n",
    "bad_data_csv.loc[[7,8],'Duration'] = 16660\n",
    "print(bad_data_csv)"
   ]
  },
  {
   "cell_type": "code",
   "execution_count": null,
   "id": "9760637d",
   "metadata": {},
   "outputs": [],
   "source": [
    "# Removing Rows\n",
    "import pandas as pd\n",
    "\n",
    "bad_data_csv = pd.read_csv('badData.csv')\n",
    "\n",
    "\n",
    "# we have to remove 0th row from data frame\n",
    "\n",
    "bad_data_csv.drop()\n"
   ]
  },
  {
   "cell_type": "code",
   "execution_count": 28,
   "id": "71b4fbed",
   "metadata": {},
   "outputs": [
    {
     "name": "stdout",
     "output_type": "stream",
     "text": [
      "0\n",
      "1\n",
      "2\n",
      "3\n",
      "4\n"
     ]
    }
   ],
   "source": [
    "for x in bad_data_csv.head(5).index:\n",
    "    print(x)\n",
    "    "
   ]
  },
  {
   "cell_type": "code",
   "execution_count": 25,
   "id": "36138bae",
   "metadata": {},
   "outputs": [
    {
     "name": "stdout",
     "output_type": "stream",
     "text": [
      "Duration\n",
      "Date\n",
      "Pulse\n",
      "Maxpulse\n",
      "Calories\n"
     ]
    }
   ],
   "source": [
    "for x in bad_data_csv.columns:\n",
    "    print(x)"
   ]
  },
  {
   "cell_type": "code",
   "execution_count": null,
   "id": "fb4d2343",
   "metadata": {},
   "outputs": [],
   "source": []
  },
  {
   "cell_type": "code",
   "execution_count": 39,
   "id": "788ebfde",
   "metadata": {},
   "outputs": [],
   "source": [
    "# print(bad_data_csv.loc[2,\"Duration\"])\n",
    "# print(bad_data_csv[\"Duration\"])"
   ]
  },
  {
   "cell_type": "code",
   "execution_count": 43,
   "id": "ad4f34fe",
   "metadata": {},
   "outputs": [
    {
     "data": {
      "text/html": [
       "<div>\n",
       "<style scoped>\n",
       "    .dataframe tbody tr th:only-of-type {\n",
       "        vertical-align: middle;\n",
       "    }\n",
       "\n",
       "    .dataframe tbody tr th {\n",
       "        vertical-align: top;\n",
       "    }\n",
       "\n",
       "    .dataframe thead th {\n",
       "        text-align: right;\n",
       "    }\n",
       "</style>\n",
       "<table border=\"1\" class=\"dataframe\">\n",
       "  <thead>\n",
       "    <tr style=\"text-align: right;\">\n",
       "      <th></th>\n",
       "      <th>Duration</th>\n",
       "      <th>Date</th>\n",
       "      <th>Pulse</th>\n",
       "      <th>Maxpulse</th>\n",
       "      <th>Calories</th>\n",
       "    </tr>\n",
       "  </thead>\n",
       "  <tbody>\n",
       "    <tr>\n",
       "      <th>0</th>\n",
       "      <td>60</td>\n",
       "      <td>2020/12/01</td>\n",
       "      <td>110</td>\n",
       "      <td>130</td>\n",
       "      <td>409.1</td>\n",
       "    </tr>\n",
       "    <tr>\n",
       "      <th>1</th>\n",
       "      <td>60</td>\n",
       "      <td>2020/12/02</td>\n",
       "      <td>117</td>\n",
       "      <td>145</td>\n",
       "      <td>479.0</td>\n",
       "    </tr>\n",
       "    <tr>\n",
       "      <th>2</th>\n",
       "      <td>60</td>\n",
       "      <td>2020/12/03</td>\n",
       "      <td>103</td>\n",
       "      <td>135</td>\n",
       "      <td>340.0</td>\n",
       "    </tr>\n",
       "    <tr>\n",
       "      <th>3</th>\n",
       "      <td>45</td>\n",
       "      <td>2020/12/04</td>\n",
       "      <td>109</td>\n",
       "      <td>175</td>\n",
       "      <td>282.4</td>\n",
       "    </tr>\n",
       "    <tr>\n",
       "      <th>4</th>\n",
       "      <td>45</td>\n",
       "      <td>2020/12/05</td>\n",
       "      <td>117</td>\n",
       "      <td>148</td>\n",
       "      <td>406.0</td>\n",
       "    </tr>\n",
       "    <tr>\n",
       "      <th>5</th>\n",
       "      <td>60</td>\n",
       "      <td>2020/12/06</td>\n",
       "      <td>102</td>\n",
       "      <td>127</td>\n",
       "      <td>300.0</td>\n",
       "    </tr>\n",
       "    <tr>\n",
       "      <th>6</th>\n",
       "      <td>60</td>\n",
       "      <td>2020/12/07</td>\n",
       "      <td>110</td>\n",
       "      <td>136</td>\n",
       "      <td>374.0</td>\n",
       "    </tr>\n",
       "    <tr>\n",
       "      <th>8</th>\n",
       "      <td>30</td>\n",
       "      <td>2020/12/09</td>\n",
       "      <td>109</td>\n",
       "      <td>133</td>\n",
       "      <td>195.1</td>\n",
       "    </tr>\n",
       "    <tr>\n",
       "      <th>9</th>\n",
       "      <td>60</td>\n",
       "      <td>2020/12/10</td>\n",
       "      <td>98</td>\n",
       "      <td>124</td>\n",
       "      <td>269.0</td>\n",
       "    </tr>\n",
       "    <tr>\n",
       "      <th>10</th>\n",
       "      <td>60</td>\n",
       "      <td>2020/12/11</td>\n",
       "      <td>103</td>\n",
       "      <td>147</td>\n",
       "      <td>329.3</td>\n",
       "    </tr>\n",
       "    <tr>\n",
       "      <th>11</th>\n",
       "      <td>60</td>\n",
       "      <td>2020/12/12</td>\n",
       "      <td>100</td>\n",
       "      <td>120</td>\n",
       "      <td>250.7</td>\n",
       "    </tr>\n",
       "    <tr>\n",
       "      <th>12</th>\n",
       "      <td>60</td>\n",
       "      <td>2020/12/12</td>\n",
       "      <td>100</td>\n",
       "      <td>120</td>\n",
       "      <td>250.7</td>\n",
       "    </tr>\n",
       "    <tr>\n",
       "      <th>13</th>\n",
       "      <td>60</td>\n",
       "      <td>2020/12/13</td>\n",
       "      <td>106</td>\n",
       "      <td>128</td>\n",
       "      <td>345.3</td>\n",
       "    </tr>\n",
       "    <tr>\n",
       "      <th>14</th>\n",
       "      <td>60</td>\n",
       "      <td>2020/12/14</td>\n",
       "      <td>104</td>\n",
       "      <td>132</td>\n",
       "      <td>379.3</td>\n",
       "    </tr>\n",
       "    <tr>\n",
       "      <th>15</th>\n",
       "      <td>60</td>\n",
       "      <td>2020/12/15</td>\n",
       "      <td>98</td>\n",
       "      <td>123</td>\n",
       "      <td>275.0</td>\n",
       "    </tr>\n",
       "    <tr>\n",
       "      <th>16</th>\n",
       "      <td>60</td>\n",
       "      <td>2020/12/16</td>\n",
       "      <td>98</td>\n",
       "      <td>120</td>\n",
       "      <td>215.2</td>\n",
       "    </tr>\n",
       "    <tr>\n",
       "      <th>17</th>\n",
       "      <td>60</td>\n",
       "      <td>2020/12/17</td>\n",
       "      <td>100</td>\n",
       "      <td>120</td>\n",
       "      <td>300.0</td>\n",
       "    </tr>\n",
       "    <tr>\n",
       "      <th>18</th>\n",
       "      <td>45</td>\n",
       "      <td>2020/12/18</td>\n",
       "      <td>90</td>\n",
       "      <td>112</td>\n",
       "      <td>NaN</td>\n",
       "    </tr>\n",
       "    <tr>\n",
       "      <th>19</th>\n",
       "      <td>60</td>\n",
       "      <td>2020/12/19</td>\n",
       "      <td>103</td>\n",
       "      <td>123</td>\n",
       "      <td>323.0</td>\n",
       "    </tr>\n",
       "    <tr>\n",
       "      <th>20</th>\n",
       "      <td>45</td>\n",
       "      <td>2020/12/20</td>\n",
       "      <td>97</td>\n",
       "      <td>125</td>\n",
       "      <td>243.0</td>\n",
       "    </tr>\n",
       "    <tr>\n",
       "      <th>21</th>\n",
       "      <td>60</td>\n",
       "      <td>2020/12/21</td>\n",
       "      <td>108</td>\n",
       "      <td>131</td>\n",
       "      <td>364.2</td>\n",
       "    </tr>\n",
       "    <tr>\n",
       "      <th>22</th>\n",
       "      <td>45</td>\n",
       "      <td>NaN</td>\n",
       "      <td>100</td>\n",
       "      <td>119</td>\n",
       "      <td>282.0</td>\n",
       "    </tr>\n",
       "    <tr>\n",
       "      <th>23</th>\n",
       "      <td>60</td>\n",
       "      <td>2020/12/23</td>\n",
       "      <td>130</td>\n",
       "      <td>101</td>\n",
       "      <td>300.0</td>\n",
       "    </tr>\n",
       "    <tr>\n",
       "      <th>24</th>\n",
       "      <td>45</td>\n",
       "      <td>20201226</td>\n",
       "      <td>105</td>\n",
       "      <td>132</td>\n",
       "      <td>246.0</td>\n",
       "    </tr>\n",
       "    <tr>\n",
       "      <th>25</th>\n",
       "      <td>60</td>\n",
       "      <td>2020/12/25</td>\n",
       "      <td>102</td>\n",
       "      <td>126</td>\n",
       "      <td>334.5</td>\n",
       "    </tr>\n",
       "    <tr>\n",
       "      <th>26</th>\n",
       "      <td>60</td>\n",
       "      <td>2020/12/26</td>\n",
       "      <td>100</td>\n",
       "      <td>120</td>\n",
       "      <td>250.0</td>\n",
       "    </tr>\n",
       "    <tr>\n",
       "      <th>27</th>\n",
       "      <td>60</td>\n",
       "      <td>2020/12/27</td>\n",
       "      <td>92</td>\n",
       "      <td>118</td>\n",
       "      <td>241.0</td>\n",
       "    </tr>\n",
       "    <tr>\n",
       "      <th>28</th>\n",
       "      <td>60</td>\n",
       "      <td>2020/12/28</td>\n",
       "      <td>103</td>\n",
       "      <td>132</td>\n",
       "      <td>NaN</td>\n",
       "    </tr>\n",
       "    <tr>\n",
       "      <th>29</th>\n",
       "      <td>60</td>\n",
       "      <td>2020/12/29</td>\n",
       "      <td>100</td>\n",
       "      <td>132</td>\n",
       "      <td>280.0</td>\n",
       "    </tr>\n",
       "    <tr>\n",
       "      <th>30</th>\n",
       "      <td>60</td>\n",
       "      <td>2020/12/30</td>\n",
       "      <td>102</td>\n",
       "      <td>129</td>\n",
       "      <td>380.3</td>\n",
       "    </tr>\n",
       "    <tr>\n",
       "      <th>31</th>\n",
       "      <td>60</td>\n",
       "      <td>2020/12/31</td>\n",
       "      <td>92</td>\n",
       "      <td>115</td>\n",
       "      <td>243.0</td>\n",
       "    </tr>\n",
       "  </tbody>\n",
       "</table>\n",
       "</div>"
      ],
      "text/plain": [
       "    Duration        Date  Pulse  Maxpulse  Calories\n",
       "0         60  2020/12/01    110       130     409.1\n",
       "1         60  2020/12/02    117       145     479.0\n",
       "2         60  2020/12/03    103       135     340.0\n",
       "3         45  2020/12/04    109       175     282.4\n",
       "4         45  2020/12/05    117       148     406.0\n",
       "5         60  2020/12/06    102       127     300.0\n",
       "6         60  2020/12/07    110       136     374.0\n",
       "8         30  2020/12/09    109       133     195.1\n",
       "9         60  2020/12/10     98       124     269.0\n",
       "10        60  2020/12/11    103       147     329.3\n",
       "11        60  2020/12/12    100       120     250.7\n",
       "12        60  2020/12/12    100       120     250.7\n",
       "13        60  2020/12/13    106       128     345.3\n",
       "14        60  2020/12/14    104       132     379.3\n",
       "15        60  2020/12/15     98       123     275.0\n",
       "16        60  2020/12/16     98       120     215.2\n",
       "17        60  2020/12/17    100       120     300.0\n",
       "18        45  2020/12/18     90       112       NaN\n",
       "19        60  2020/12/19    103       123     323.0\n",
       "20        45  2020/12/20     97       125     243.0\n",
       "21        60  2020/12/21    108       131     364.2\n",
       "22        45         NaN    100       119     282.0\n",
       "23        60  2020/12/23    130       101     300.0\n",
       "24        45    20201226    105       132     246.0\n",
       "25        60  2020/12/25    102       126     334.5\n",
       "26        60  2020/12/26    100       120     250.0\n",
       "27        60  2020/12/27     92       118     241.0\n",
       "28        60  2020/12/28    103       132       NaN\n",
       "29        60  2020/12/29    100       132     280.0\n",
       "30        60  2020/12/30    102       129     380.3\n",
       "31        60  2020/12/31     92       115     243.0"
      ]
     },
     "execution_count": 43,
     "metadata": {},
     "output_type": "execute_result"
    }
   ],
   "source": [
    "# Removing Rows\n",
    "import pandas as pd\n",
    "\n",
    "bad_data_csv = pd.read_csv('badData.csv')\n",
    "\n",
    "\n",
    "# we have to remove 0th row from data frame\n",
    "for i in bad_data_csv.index:\n",
    "    if bad_data_csv.loc[i,\"Duration\"] >200:\n",
    "        \n",
    "     bad_data_csv.drop(i , inplace=True)\n",
    "bad_data_csv"
   ]
  },
  {
   "cell_type": "code",
   "execution_count": null,
   "id": "752938b5",
   "metadata": {},
   "outputs": [
    {
     "name": "stdout",
     "output_type": "stream",
     "text": [
      "0     False\n",
      "1     False\n",
      "2     False\n",
      "3     False\n",
      "4     False\n",
      "5     False\n",
      "6     False\n",
      "7     False\n",
      "8     False\n",
      "9     False\n",
      "10    False\n",
      "11    False\n",
      "12     True\n",
      "13    False\n",
      "14    False\n",
      "15    False\n",
      "16    False\n",
      "17    False\n",
      "18    False\n",
      "19    False\n",
      "20    False\n",
      "21    False\n",
      "22    False\n",
      "23    False\n",
      "24    False\n",
      "25    False\n",
      "26    False\n",
      "27    False\n",
      "28    False\n",
      "29    False\n",
      "30    False\n",
      "31    False\n",
      "dtype: bool\n"
     ]
    }
   ],
   "source": [
    "# how to show duplicates rows \n",
    "import pandas as pd\n",
    "\n",
    "bad_data_csv = pd.read_csv('badData.csv')\n",
    "# print(bad_data_csv)\n",
    "print(bad_data_csv.duplicated())"
   ]
  },
  {
   "cell_type": "code",
   "execution_count": null,
   "id": "3120c931",
   "metadata": {},
   "outputs": [
    {
     "name": "stdout",
     "output_type": "stream",
     "text": [
      "    Duration        Date  Pulse  Maxpulse  Calories\n",
      "0         60  2020/12/01    110       130     409.1\n",
      "1         60  2020/12/02    117       145     479.0\n",
      "2         60  2020/12/03    103       135     340.0\n",
      "3         45  2020/12/04    109       175     282.4\n",
      "4         45  2020/12/05    117       148     406.0\n",
      "5         60  2020/12/06    102       127     300.0\n",
      "6         60  2020/12/07    110       136     374.0\n",
      "7        450  2020/12/08    104       134     253.3\n",
      "8         30  2020/12/09    109       133     195.1\n",
      "9         60  2020/12/10     98       124     269.0\n",
      "10        60  2020/12/11    103       147     329.3\n",
      "11        60  2020/12/12    100       120     250.7\n",
      "13        60  2020/12/13    106       128     345.3\n",
      "14        60  2020/12/14    104       132     379.3\n",
      "15        60  2020/12/15     98       123     275.0\n",
      "16        60  2020/12/16     98       120     215.2\n",
      "17        60  2020/12/17    100       120     300.0\n",
      "18        45  2020/12/18     90       112       NaN\n",
      "19        60  2020/12/19    103       123     323.0\n",
      "20        45  2020/12/20     97       125     243.0\n",
      "21        60  2020/12/21    108       131     364.2\n",
      "22        45         NaN    100       119     282.0\n",
      "23        60  2020/12/23    130       101     300.0\n",
      "24        45    20201226    105       132     246.0\n",
      "25        60  2020/12/25    102       126     334.5\n",
      "26        60  2020/12/26    100       120     250.0\n",
      "27        60  2020/12/27     92       118     241.0\n",
      "28        60  2020/12/28    103       132       NaN\n",
      "29        60  2020/12/29    100       132     280.0\n",
      "30        60  2020/12/30    102       129     380.3\n",
      "31        60  2020/12/31     92       115     243.0\n"
     ]
    }
   ],
   "source": [
    "# Removing Duplicates\n",
    "\n",
    "import pandas as pd\n",
    "\n",
    "bad_data_csv = pd.read_csv('badData.csv')\n",
    "\n",
    "# print(bad_data_csv.to_string())\n",
    "\n",
    "\n",
    "\n",
    "# how to delete  dupliates row\n",
    "bad_data_csv = pd.read_csv('badData.csv')\n",
    "\n",
    "bad_data_csv.drop_duplicates(inplace=True)\n",
    "print(bad_data_csv.to_string())\n"
   ]
  },
  {
   "cell_type": "code",
   "execution_count": null,
   "id": "639f80d3",
   "metadata": {},
   "outputs": [],
   "source": []
  }
 ],
 "metadata": {
  "kernelspec": {
   "display_name": "Python 3",
   "language": "python",
   "name": "python3"
  },
  "language_info": {
   "codemirror_mode": {
    "name": "ipython",
    "version": 3
   },
   "file_extension": ".py",
   "mimetype": "text/x-python",
   "name": "python",
   "nbconvert_exporter": "python",
   "pygments_lexer": "ipython3",
   "version": "3.10.6"
  }
 },
 "nbformat": 4,
 "nbformat_minor": 5
}
